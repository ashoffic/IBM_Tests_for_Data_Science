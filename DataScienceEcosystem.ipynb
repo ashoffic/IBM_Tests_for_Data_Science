{
 "cells": [
  {
   "cell_type": "markdown",
   "id": "7bd2fbe2-1352-4507-8735-27bb1c0516fa",
   "metadata": {},
   "source": [
    "# Data Science Tools and Ecosystem"
   ]
  },
  {
   "cell_type": "markdown",
   "id": "5b951a0c-8e09-4d4d-bc6c-d95dc79ea763",
   "metadata": {},
   "source": [
    "In this notebook, Data Science Tools and Ecosystem are summarized."
   ]
  },
  {
   "cell_type": "markdown",
   "id": "8f0e70b3-fc15-41f2-9fa1-98babde43192",
   "metadata": {},
   "source": [
    "Some of the popular languages that Data Scientists use are:\n",
    "\n",
    "1. Python\n",
    "2. R\n",
    "3. SQL\n",
    "4. Julia\n",
    "5. Scala\n",
    "6. MATLAB\n",
    "7. Java\n",
    "8. SAS\n",
    "9. JavaScript"
   ]
  },
  {
   "cell_type": "markdown",
   "id": "a0cb3458-b072-4073-87bf-e529d8e078b2",
   "metadata": {
    "tags": []
   },
   "source": [
    "Some of the commonly used libraries used by Data Scientists include:\n",
    "\n",
    "1. Pandas\n",
    "2. NumPy\n",
    "3. Matplotlib\n",
    "4. Scikit-learn\n",
    "5. TensorFlow\n",
    "6. Keras\n",
    "7. PyTorch\n",
    "8. Seaborn"
   ]
  },
  {
   "cell_type": "markdown",
   "id": "57be8357-d45d-4324-b5d3-bd754226f67d",
   "metadata": {},
   "source": [
    "| Data Science Tools    |\n",
    "|-----------------------|\n",
    "| Jupyter Notebook      |\n",
    "| RStudio               |\n",
    "| Visual Studio Code    |\n"
   ]
  },
  {
   "cell_type": "markdown",
   "id": "1611aee9-21aa-40c4-9190-c2b1ca7ef183",
   "metadata": {},
   "source": [
    "### Below are a few examples of evaluating arithmetic expressions in Python."
   ]
  },
  {
   "cell_type": "code",
   "execution_count": 2,
   "id": "988c3a94-e654-4b6e-b5a7-ac3656d79c6a",
   "metadata": {
    "tags": []
   },
   "outputs": [
    {
     "data": {
      "text/plain": [
       "17"
      ]
     },
     "execution_count": 2,
     "metadata": {},
     "output_type": "execute_result"
    }
   ],
   "source": [
    "# This is a simple arithmetic expression to multiply then add integers\n",
    "(3 * 4) + 5"
   ]
  },
  {
   "cell_type": "code",
   "execution_count": 3,
   "id": "3679e4a2-5c79-4ba1-85fd-3515374ac506",
   "metadata": {
    "tags": []
   },
   "outputs": [
    {
     "name": "stdout",
     "output_type": "stream",
     "text": [
      "3.3333333333333335\n"
     ]
    }
   ],
   "source": [
    "# This will convert 200 minutes to hours by dividing by 60\n",
    "minutes = 200\n",
    "hours = minutes / 60\n",
    "print(hours)\n"
   ]
  },
  {
   "cell_type": "markdown",
   "id": "1ade29e4-3fd5-439e-8270-fd07547bb014",
   "metadata": {},
   "source": [
    "**Objectives:**\n",
    "\n",
    "- List popular languages for Data Science.\n",
    "- Introduce commonly used libraries in Data Science.\n",
    "- Explore arithmetic expressions in Python.\n",
    "- Convert minutes to hours using Python.\n",
    "- Understand basic concepts of Jupyter Notebooks.\n"
   ]
  },
  {
   "cell_type": "markdown",
   "id": "29914916-3070-47c1-8f9d-02daa2a59bc7",
   "metadata": {},
   "source": [
    "## Author\n",
    "Ashwin Balasubramanian"
   ]
  },
  {
   "cell_type": "code",
   "execution_count": null,
   "id": "dd506e36-99c8-402b-8515-48e6c847b31c",
   "metadata": {},
   "outputs": [],
   "source": []
  }
 ],
 "metadata": {
  "kernelspec": {
   "display_name": "Python 3 (ipykernel)",
   "language": "python",
   "name": "python3"
  },
  "language_info": {
   "codemirror_mode": {
    "name": "ipython",
    "version": 3
   },
   "file_extension": ".py",
   "mimetype": "text/x-python",
   "name": "python",
   "nbconvert_exporter": "python",
   "pygments_lexer": "ipython3",
   "version": "3.11.3"
  }
 },
 "nbformat": 4,
 "nbformat_minor": 5
}
